{
 "cells": [
  {
   "cell_type": "markdown",
   "metadata": {},
   "source": [
    "# Using Recipe Ingredients to Categorize Cuisine\n",
    "\n",
    "By Eka Renardi. October 7, 2015\n",
    "\n",
    "## Introduction\n",
    "\n",
    "This document outline my solution for solving this Kaggle Competition. Kaggle posed a challenge for predicting the category of cuisine based on its recipe ingredients. \n",
    "\n",
    "### Dataset\n",
    "\n",
    "*Yummly* graciously provided the dataset for this challenge. The dataset consists of train and test set. The train set listed the cuisines, and ingredients for the cuisine.  The test set data listed just the ingredients. A sample train data set is as follows:\n",
    "\n",
    "```\n",
    "{\n",
    "    \"id\": 25693,\n",
    "    \"cuisine\": \"southern_us\",\n",
    "    \"ingredients\": [\n",
    "      \"plain flour\",\n",
    "      \"ground pepper\",\n",
    "      \"salt\",\n",
    "      \"tomatoes\",\n",
    "      \"ground black pepper\",\n",
    "      \"thyme\",\n",
    "      \"eggs\",\n",
    "      \"green tomatoes\",\n",
    "      \"yellow corn meal\",\n",
    "      \"milk\",\n",
    "      \"vegetable oil\"\n",
    "    ]\n",
    "}\n",
    "```\n",
    "\n",
    "Attributes:\n",
    "\n",
    "- \"id\" - unique identifier\n",
    "- \"cuisine\" - category of a cuisine\n",
    "- \"ingredients\" - ingredients used to make the cuisine\n"
   ]
  },
  {
   "cell_type": "markdown",
   "metadata": {},
   "source": [
    "## Exploratory Statistics\n",
    "\n",
    "In my attempt to understand the data, several exploratory statistics are constructed. \n",
    "\n",
    "#### How many unique cuisines are there, and what are they?"
   ]
  },
  {
   "cell_type": "code",
   "execution_count": 24,
   "metadata": {
    "collapsed": false
   },
   "outputs": [
    {
     "name": "stdout",
     "output_type": "stream",
     "text": [
      "('shape:', (39774, 3))\n",
      "('unique cuisine count:', 20)\n"
     ]
    },
    {
     "data": {
      "image/png": "[encoded data removed]",
      "text/plain": [
       "<matplotlib.figure.Figure at 0x7f8aa5138d90>"
      ]
     },
     "metadata": {},
     "output_type": "display_data"
    }
   ],
   "source": [
    "%matplotlib inline\n",
    "import pandas as pd\n",
    "import numpy as np\n",
    "import matplotlib.pyplot as plt\n",
    "from collections import Counter\n",
    "import seaborn as sns\n",
    "\n",
    "df = pd.read_json(\"../data/train.json\")\n",
    "cuisines = df.cuisine.value_counts(sort=True)\n",
    "cuisines.plot(kind=\"bar\")\n",
    "print(\"shape:\", df.shape)\n",
    "print(\"unique cuisine count:\", len(df.cuisine.unique()))"
   ]
  },
  {
   "cell_type": "markdown",
   "metadata": {},
   "source": [
    "#### What is the most often used ingredients by all cuisine? and what is the most often used ingredients for each cuisine?"
   ]
  },
  {
   "cell_type": "raw",
   "metadata": {
    "collapsed": true
   },
   "source": [
    "ingredients_counter = Counter()\n",
    "for index, row in df.iterrows():\n",
    "    print row.in"
   ]
  },
  {
   "cell_type": "markdown",
   "metadata": {},
   "source": [
    "#### How many ingredients are used by ebch cuisine"
   ]
  },
  {
   "cell_type": "code",
   "execution_count": null,
   "metadata": {
    "collapsed": true
   },
   "outputs": [],
   "source": []
  },
  {
   "cell_type": "markdown",
   "metadata": {
    "collapsed": true
   },
   "source": [
    "## Model\n",
    "\n"
   ]
  },
  {
   "cell_type": "code",
   "execution_count": null,
   "metadata": {
    "collapsed": true
   },
   "outputs": [],
   "source": []
  }
 ],
 "metadata": {
  "kernelspec": {
   "display_name": "Python 2",
   "language": "python",
   "name": "python2"
  },
  "language_info": {
   "codemirror_mode": {
    "name": "ipython",
    "version": 2
   },
   "file_extension": ".py",
   "mimetype": "text/x-python",
   "name": "python",
   "nbconvert_exporter": "python",
   "pygments_lexer": "ipython2",
   "version": "2.7.10"
  }
 },
 "nbformat": 4,
 "nbformat_minor": 0
}
