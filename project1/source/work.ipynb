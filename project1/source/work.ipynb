{
 "cells": [
  {
   "cell_type": "markdown",
   "metadata": {},
   "source": [
    "Todo:\n",
    "- load full\n",
    "- explore, tail, head, norm, anom\n",
    "- plot against labels\n",
    "- list unique url\n",
    "- list anom session, cookie, etc\n",
    "- list features\n",
    "- reduce dimension"
   ]
  },
  {
   "cell_type": "code",
   "execution_count": 1,
   "metadata": {
    "collapsed": true
   },
   "outputs": [],
   "source": [
    "%matplotlib inline\n",
    "import pandas as pd\n",
    "import numpy as np\n",
    "import csv\n",
    "import matplotlib.pyplot as plt"
   ]
  },
  {
   "cell_type": "code",
   "execution_count": 2,
   "metadata": {
    "collapsed": false
   },
   "outputs": [
    {
     "name": "stdout",
     "output_type": "stream",
     "text": [
      "\"index\",\"method\",\"url\",\"protocol\",\"userAgent\",\"pragma\",\"cacheControl\",\"accept\",\"acceptEncoding\",\"acceptCharset\",\"acceptLanguage\",\"host\",\"connection\",\"contentLength\",\"contentType\",\"cookie\",\"payload\",\"label\"\r\n",
      "\"0\",\"GET\",\"http://localhost:8080/tienda1/publico/anadir.jsp\",\"HTTP/1.1\",\"Mozilla/5.0 (compatible; Konqueror/3.5; Linux) KHTML/3.5.8 (like Gecko)\",\"no-cache\",\"no-cache\",\"text/xml,application/xml,application/xhtml+xml,text/html;q=0.9,text/plain;q=0.8,image/png,*/*;q=0.5\",\"x-gzip, x-deflate, gzip, deflate\",\"utf-8, utf-8;q=0.5, *;q=0.5\",\"en\",\"localhost:8080\",\"close\",\"null\",\"null\",\"JSESSIONID=B92A8B48B9008CD29F622A994E0F650D\",\"id=2\",\"anom\"\r\n",
      "\"0\",\"GET\",\"http://localhost:8080/tienda1/publico/anadir.jsp\",\"HTTP/1.1\",\"Mozilla/5.0 (compatible; Konqueror/3.5; Linux) KHTML/3.5.8 (like Gecko)\",\"no-cache\",\"no-cache\",\"text/xml,application/xml,application/xhtml+xml,text/html;q=0.9,text/plain;q=0.8,image/png,*/*;q=0.5\",\"x-gzip, x-deflate, gzip, deflate\",\"utf-8, utf-8;q=0.5, *;q=0.5\",\"en\",\"localhost:8080\",\"close\",\"null\",\"null\",\"JSESSIONID=B92A8B48B9008CD29F622A994E0F650D\",\"nombre=Jam�n Ib�rico\",\"anom\"\r\n",
      "\"0\",\"GET\",\"http://localhost:8080/tienda1/publico/anadir.jsp\",\"HTTP/1.1\",\"Mozilla/5.0 (compatible; Konqueror/3.5; Linux) KHTML/3.5.8 (like Gecko)\",\"no-cache\",\"no-cache\",\"text/xml,application/xml,application/xhtml+xml,text/html;q=0.9,text/plain;q=0.8,image/png,*/*;q=0.5\",\"x-gzip, x-deflate, gzip, deflate\",\"utf-8, utf-8;q=0.5, *;q=0.5\",\"en\",\"localhost:8080\",\"close\",\"null\",\"null\",\"JSESSIONID=B92A8B48B9008CD29F622A994E0F650D\",\"precio=85\",\"anom\"\r\n",
      "\"0\",\"GET\",\"http://localhost:8080/tienda1/publico/anadir.jsp\",\"HTTP/1.1\",\"Mozilla/5.0 (compatible; Konqueror/3.5; Linux) KHTML/3.5.8 (like Gecko)\",\"no-cache\",\"no-cache\",\"text/xml,application/xml,application/xhtml+xml,text/html;q=0.9,text/plain;q=0.8,image/png,*/*;q=0.5\",\"x-gzip, x-deflate, gzip, deflate\",\"utf-8, utf-8;q=0.5, *;q=0.5\",\"en\",\"localhost:8080\",\"close\",\"null\",\"null\",\"JSESSIONID=B92A8B48B9008CD29F622A994E0F650D\",\"cantidad='; DROP TABLE usuarios; SELECT * FROM datos WHERE nombre LIKE '%\",\"anom\"\r\n"
     ]
    }
   ],
   "source": [
    "!head -n 5 \"../data/output_http_csic_2010_weka_with_duplications_utf8_escd_v02_full.csv\""
   ]
  },
  {
   "cell_type": "code",
   "execution_count": 7,
   "metadata": {
    "collapsed": false
   },
   "outputs": [
    {
     "name": "stdout",
     "output_type": "stream",
     "text": [
      "\"3144\",\"GET\",\"http://localhost:8080/tienda1/publico/registro.jsp\",\"HTTP/1.1\",\"Mozilla/5.0 (compatible; Konqueror/3.5; Linux) KHTML/3.5.8 (like Gecko)\",\"no-cache\",\"no-cache\",\"text/xml,application/xml,application/xhtml+xml,text/html;q=0.9,text/plain;q=0.8,image/png,*/*;q=0.5\",\"x-gzip, x-deflate, gzip, deflate\",\"utf-8, utf-8;q=0.5, *;q=0.5\",\"en\",\"localhost:8080\",\"close\",\"null\",\"null\",\"JSESSIONID=0474EC2F9E229A3DDDC7F7FCFB15B054\",\"dni=61186493F\",\"anom\"\r\n",
      "\"3144\",\"GET\",\"http://localhost:8080/tienda1/publico/registro.jsp\",\"HTTP/1.1\",\"Mozilla/5.0 (compatible; Konqueror/3.5; Linux) KHTML/3.5.8 (like Gecko)\",\"no-cache\",\"no-cache\",\"text/xml,application/xml,application/xhtml+xml,text/html;q=0.9,text/plain;q=0.8,image/png,*/*;q=0.5\",\"x-gzip, x-deflate, gzip, deflate\",\"utf-8, utf-8;q=0.5, *;q=0.5\",\"en\",\"localhost:8080\",\"close\",\"null\",\"null\",\"JSESSIONID=0474EC2F9E229A3DDDC7F7FCFB15B054\",\"direccion=C/ Rafael Company \\\"farmaceutic\\\", 135, \",\"anom\"\r\n",
      "\"3144\",\"GET\",\"http://localhost:8080/tienda1/publico/registro.jsp\",\"HTTP/1.1\",\"Mozilla/5.0 (compatible; Konqueror/3.5; Linux) KHTML/3.5.8 (like Gecko)\",\"no-cache\",\"no-cache\",\"text/xml,application/xml,application/xhtml+xml,text/html;q=0.9,text/plain;q=0.8,image/png,*/*;q=0.5\",\"x-gzip, x-deflate, gzip, deflate\",\"utf-8, utf-8;q=0.5, *;q=0.5\",\"en\",\"localhost:8080\",\"close\",\"null\",\"null\",\"JSESSIONID=0474EC2F9E229A3DDDC7F7FCFB15B054\",\"ciudad=Salas Altas\",\"anom\"\r\n",
      "\"3144\",\"GET\",\"http://localhost:8080/tienda1/publico/registro.jsp\",\"HTTP/1.1\",\"Mozilla/5.0 (compatible; Konqueror/3.5; Linux) KHTML/3.5.8 (like Gecko)\",\"no-cache\",\"no-cache\",\"text/xml,application/xml,application/xhtml+xml,text/html;q=0.9,text/plain;q=0.8,image/png,*/*;q=0.5\",\"x-gzip, x-deflate, gzip, deflate\",\"utf-8, utf-8;q=0.5, *;q=0.5\",\"en\",\"localhost:8080\",\"close\",\"null\",\"null\",\"JSESSIONID=0474EC2F9E229A3DDDC7F7FCFB15B054\",\"cp=01039\",\"anom\"\r\n",
      "\"3144\",\"GET\",\"http://localhost:8080/tienda1/publico/registro.jsp\",\"HTTP/1.1\",\"Mozilla/5.0 (compatible; Konqueror/3.5; Linux) KHTML/3.5.8 (like Gecko)\",\"no-cache\",\"no-cache\",\"text/xml,application/xml,application/xhtml+xml,text/html;q=0.9,text/plain;q=0.8,image/png,*/*;q=0.5\",\"x-gzip, x-deflate, gzip, deflate\",\"utf-8, utf-8;q=0.5, *;q=0.5\",\"en\",\"localhost:8080\",\"close\",\"null\",\"null\",\"JSESSIONID=0474EC2F9E229A3DDDC7F7FCFB15B054\",\"provincia=Guadalajara\",\"anom\"\r\n",
      "\"3144\",\"GET\",\"http://localhost:8080/tienda1/publico/registro.jsp\",\"HTTP/1.1\",\"Mozilla/5.0 (compatible; Konqueror/3.5; Linux) KHTML/3.5.8 (like Gecko)\",\"no-cache\",\"no-cache\",\"text/xml,application/xml,application/xhtml+xml,text/html;q=0.9,text/plain;q=0.8,image/png,*/*;q=0.5\",\"x-gzip, x-deflate, gzip, deflate\",\"utf-8, utf-8;q=0.5, *;q=0.5\",\"en\",\"localhost:8080\",\"close\",\"null\",\"null\",\"JSESSIONID=0474EC2F9E229A3DDDC7F7FCFB15B054\",\"ntc=9812245040414546','0','0','0','0');waitfor delay '0:0:15';--\",\"anom\"\r\n"
     ]
    }
   ],
   "source": [
    "!sed -n \"12770,12775p\" < \"../data/output_http_csic_2010_weka_with_duplications_utf8_escd_v02_full.csv\""
   ]
  },
  {
   "cell_type": "code",
   "execution_count": 4,
   "metadata": {
    "collapsed": false
   },
   "outputs": [],
   "source": [
    "from pandas.io import sql\n",
    "import sqlite3\n",
    "conn = sqlite3.connect(\"../data/anomaly.db\")"
   ]
  },
  {
   "cell_type": "code",
   "execution_count": 6,
   "metadata": {
    "collapsed": false
   },
   "outputs": [
    {
     "data": {
      "text/plain": [
       "<sqlite3.Cursor at 0x7f518b020e30>"
      ]
     },
     "execution_count": 6,
     "metadata": {},
     "output_type": "execute_result"
    }
   ],
   "source": [
    "# create table\n",
    "#conn.execute(\"drop table records\")\n",
    "conn.execute('''\n",
    "create table records (uid integer,idx,method,url,protocol,user_agent,pragma,cache_control,accept,\n",
    "accept_encoding,accept_charset,accept_language,host,connection,content_length,\n",
    "content_type,cookie,payload,label)\n",
    "''')"
   ]
  },
  {
   "cell_type": "code",
   "execution_count": 7,
   "metadata": {
    "collapsed": true
   },
   "outputs": [],
   "source": [
    "# delete all records\n",
    "c = conn.cursor()\n",
    "c.execute(\"delete from records\")\n",
    "conn.commit()"
   ]
  },
  {
   "cell_type": "code",
   "execution_count": 8,
   "metadata": {
    "collapsed": false
   },
   "outputs": [
    {
     "name": "stdout",
     "output_type": "stream",
     "text": [
      "error 126515, 3127\n",
      "exception: unrecognized token: \"\" 6?B\"\")\"\n",
      "error 143171, 10649\n",
      "exception: unrecognized token: \"\" 118 \"\")\"\n",
      "error 186283, 28895\n",
      "exception: unrecognized token: \"\" 6?B\"\")\"\n",
      "error 197567, 31045\n",
      "exception: unrecognized token: \"\" 118 \"\")\"\n"
     ]
    }
   ],
   "source": [
    "# insert into table\n",
    "import pdb\n",
    "c = conn.cursor()\n",
    "INSERT_STATEMENT = \"\"\"\n",
    "    insert into records values ({0},\"{1}\",\"{2}\",\"{3}\",\"{4}\",\"{5}\",\"{6}\",\"{7}\",\n",
    "    \"{8}\",\"{9}\",\"{10}\",\"{11}\",\"{12}\",\"{13}\",\"{14}\",\"{15}\",\"{16}\",\"{17}\",\"{18}\")\"\"\"\n",
    "with open(\"../data/output_http_csic_2010_weka_with_duplications_utf8_escd_v02_full.csv\", \"r\") as f:\n",
    "    rdr = csv.reader(f)\n",
    "    header = next(rdr)\n",
    "    for n, row in enumerate(rdr):\n",
    "        payload = row[16].strip().replace('\\\"','\\'')\n",
    "        stmt = INSERT_STATEMENT.format(n,\n",
    "                  row[0],  row[1],  row[2],  row[3],  row[4],  row[5],  row[6],  \n",
    "                  row[7],  row[8],  row[9],  row[10], row[11], row[12], row[13], \n",
    "                  row[14], row[15], payload, row[17])\n",
    "        try:\n",
    "            c.execute(stmt)\n",
    "        except Exception as ex:\n",
    "            print(\"error %d, %s\" % (n, row[0]))\n",
    "            print(\"exception: %s\" % ex)\n",
    "conn.commit()"
   ]
  },
  {
   "cell_type": "code",
   "execution_count": 15,
   "metadata": {
    "collapsed": false
   },
   "outputs": [
    {
     "name": "stdout",
     "output_type": "stream",
     "text": [
      "\"3127\",\"GET\",\"http://localhost:8080/tienda1/miembros/editar.jsp\",\"HTTP/1.1\",\"Mozilla/5.0 (compatible; Konqueror/3.5; Linux) KHTML/3.5.8 (like Gecko)\",\"no-cache\",\"no-cache\",\"text/xml,application/xml,application/xhtml+xml,text/html;q=0.9,text/plain;q=0.8,image/png,*/*;q=0.5\",\"x-gzip, x-deflate, gzip, deflate\",\"utf-8, utf-8;q=0.5, *;q=0.5\",\"en\",\"localhost:8080\",\"close\",\"null\",\"null\",\"JSESSIONID=C0816A615AB510420A488FF5BB38D506\",\"nombre=Didier\",\"norm\"\r\n",
      "\"3127\",\"GET\",\"http://localhost:8080/tienda1/miembros/editar.jsp\",\"HTTP/1.1\",\"Mozilla/5.0 (compatible; Konqueror/3.5; Linux) KHTML/3.5.8 (like Gecko)\",\"no-cache\",\"no-cache\",\"text/xml,application/xml,application/xhtml+xml,text/html;q=0.9,text/plain;q=0.8,image/png,*/*;q=0.5\",\"x-gzip, x-deflate, gzip, deflate\",\"utf-8, utf-8;q=0.5, *;q=0.5\",\"en\",\"localhost:8080\",\"close\",\"null\",\"null\",\"JSESSIONID=C0816A615AB510420A488FF5BB38D506\",\"apellidos=Medel Pujolriu\",\"norm\"\r\n",
      "\"3127\",\"GET\",\"http://localhost:8080/tienda1/miembros/editar.jsp\",\"HTTP/1.1\",\"Mozilla/5.0 (compatible; Konqueror/3.5; Linux) KHTML/3.5.8 (like Gecko)\",\"no-cache\",\"no-cache\",\"text/xml,application/xml,application/xhtml+xml,text/html;q=0.9,text/plain;q=0.8,image/png,*/*;q=0.5\",\"x-gzip, x-deflate, gzip, deflate\",\"utf-8, utf-8;q=0.5, *;q=0.5\",\"en\",\"localhost:8080\",\"close\",\"null\",\"null\",\"JSESSIONID=C0816A615AB510420A488FF5BB38D506\",\"email=scely_prono@tobarisch.de\",\"norm\"\r\n",
      "\"3127\",\"GET\",\"http://localhost:8080/tienda1/miembros/editar.jsp\",\"HTTP/1.1\",\"Mozilla/5.0 (compatible; Konqueror/3.5; Linux) KHTML/3.5.8 (like Gecko)\",\"no-cache\",\"no-cache\",\"text/xml,application/xml,application/xhtml+xml,text/html;q=0.9,text/plain;q=0.8,image/png,*/*;q=0.5\",\"x-gzip, x-deflate, gzip, deflate\",\"utf-8, utf-8;q=0.5, *;q=0.5\",\"en\",\"localhost:8080\",\"close\",\"null\",\"null\",\"JSESSIONID=C0816A615AB510420A488FF5BB38D506\",\"dni=63375335P\",\"norm\"\r\n",
      "\"3127\",\"GET\",\"http://localhost:8080/tienda1/miembros/editar.jsp\",\"HTTP/1.1\",\"Mozilla/5.0 (compatible; Konqueror/3.5; Linux) KHTML/3.5.8 (like Gecko)\",\"no-cache\",\"no-cache\",\"text/xml,application/xml,application/xhtml+xml,text/html;q=0.9,text/plain;q=0.8,image/png,*/*;q=0.5\",\"x-gzip, x-deflate, gzip, deflate\",\"utf-8, utf-8;q=0.5, *;q=0.5\",\"en\",\"localhost:8080\",\"close\",\"null\",\"null\",\"JSESSIONID=C0816A615AB510420A488FF5BB38D506\",\"direccion=C/ Leopoldo Alas \\\"clarin\\\" 4, 6?B\",\"norm\"\r\n"
     ]
    }
   ],
   "source": [
    "!sed -n \"126513,126517p\" < \"../data/output_http_csic_2010_weka_with_duplications_utf8_escd_v02_full.csv\""
   ]
  },
  {
   "cell_type": "code",
   "execution_count": null,
   "metadata": {
    "collapsed": true
   },
   "outputs": [],
   "source": [
    "!tail -n 3 \"../data/output_http_csic_2010_weka_with_duplications_utf8_escd_v02_full.csv\""
   ]
  },
  {
   "cell_type": "code",
   "execution_count": 9,
   "metadata": {
    "collapsed": true
   },
   "outputs": [],
   "source": [
    "# read into df\n",
    "df = pd.read_sql(\"select * from records\", con=conn)"
   ]
  },
  {
   "cell_type": "code",
   "execution_count": 11,
   "metadata": {
    "collapsed": true
   },
   "outputs": [],
   "source": [
    "# close connection\n",
    "conn.close()"
   ]
  },
  {
   "cell_type": "code",
   "execution_count": 12,
   "metadata": {
    "collapsed": false
   },
   "outputs": [
    {
     "data": {
      "text/plain": [
       "uid                0\n",
       "idx                0\n",
       "method             0\n",
       "url                0\n",
       "protocol           0\n",
       "user_agent         0\n",
       "pragma             0\n",
       "cache_control      0\n",
       "accept             0\n",
       "accept_encoding    0\n",
       "accept_charset     0\n",
       "accept_language    0\n",
       "host               0\n",
       "connection         0\n",
       "content_length     0\n",
       "content_type       0\n",
       "cookie             0\n",
       "payload            0\n",
       "label              0\n",
       "dtype: int64"
      ]
     },
     "execution_count": 12,
     "metadata": {},
     "output_type": "execute_result"
    }
   ],
   "source": [
    "df.head()\n",
    "df.tail()\n",
    "df.describe\n",
    "df.shape\n",
    "df.isnull().sum()"
   ]
  },
  {
   "cell_type": "code",
   "execution_count": 23,
   "metadata": {
    "collapsed": false
   },
   "outputs": [
    {
     "data": {
      "text/plain": [
       "Index(['uid', 'idx', 'method', 'url', 'protocol', 'user_agent', 'pragma',\n",
       "       'cache_control', 'accept', 'accept_encoding', 'accept_charset',\n",
       "       'accept_language', 'host', 'connection', 'content_length',\n",
       "       'content_type', 'cookie', 'payload', 'label'],\n",
       "      dtype='object')"
      ]
     },
     "execution_count": 23,
     "metadata": {},
     "output_type": "execute_result"
    }
   ],
   "source": [
    "df.columns"
   ]
  },
  {
   "cell_type": "code",
   "execution_count": 24,
   "metadata": {
    "collapsed": false
   },
   "outputs": [
    {
     "data": {
      "text/plain": [
       "GET     123448\n",
       "POST     97940\n",
       "PUT       2193\n",
       "dtype: int64"
      ]
     },
     "execution_count": 24,
     "metadata": {},
     "output_type": "execute_result"
    }
   ],
   "source": [
    "df.method.value_counts()"
   ]
  },
  {
   "cell_type": "code",
   "execution_count": 25,
   "metadata": {
    "collapsed": false
   },
   "outputs": [
    {
     "data": {
      "text/plain": [
       "anom    119579\n",
       "norm    103996\n",
       " 135         6\n",
       "dtype: int64"
      ]
     },
     "execution_count": 25,
     "metadata": {},
     "output_type": "execute_result"
    }
   ],
   "source": [
    "df.label.value_counts()"
   ]
  },
  {
   "cell_type": "code",
   "execution_count": 30,
   "metadata": {
    "collapsed": false
   },
   "outputs": [
    {
     "data": {
      "text/plain": [
       "1643"
      ]
     },
     "execution_count": 30,
     "metadata": {},
     "output_type": "execute_result"
    }
   ],
   "source": [
    "df.url.unique().size"
   ]
  },
  {
   "cell_type": "code",
   "execution_count": 31,
   "metadata": {
    "collapsed": false
   },
   "outputs": [
    {
     "data": {
      "text/plain": [
       "33746"
      ]
     },
     "execution_count": 31,
     "metadata": {},
     "output_type": "execute_result"
    }
   ],
   "source": [
    "df.payload.unique().size"
   ]
  },
  {
   "cell_type": "code",
   "execution_count": 32,
   "metadata": {
    "collapsed": false
   },
   "outputs": [
    {
     "data": {
      "text/plain": [
       "1"
      ]
     },
     "execution_count": 32,
     "metadata": {},
     "output_type": "execute_result"
    }
   ],
   "source": [
    "df.user_agent.unique().size"
   ]
  },
  {
   "cell_type": "code",
   "execution_count": 39,
   "metadata": {
    "collapsed": false
   },
   "outputs": [
    {
     "data": {
      "text/plain": [
       "<matplotlib.axes._subplots.AxesSubplot at 0x7f9729dc6eb8>"
      ]
     },
     "execution_count": 39,
     "metadata": {},
     "output_type": "execute_result"
    },
    {
     "data": {
      "image/png": "[encoded data removed]",
      "text/plain": [
       "<matplotlib.figure.Figure at 0x7f973305e588>"
      ]
     },
     "metadata": {},
     "output_type": "display_data"
    }
   ],
   "source": [
    "df.method.value_counts().plot(kind=\"bar\")\n"
   ]
  },
  {
   "cell_type": "code",
   "execution_count": 15,
   "metadata": {
    "collapsed": true
   },
   "outputs": [],
   "source": [
    "df[\"is_anom\"] = 0\n",
    "df[\"is_anom\"] = df.label.map({\"norm\":0, 135:0, \"anom\":1})"
   ]
  },
  {
   "cell_type": "code",
   "execution_count": 19,
   "metadata": {
    "collapsed": false
   },
   "outputs": [
    {
     "data": {
      "text/plain": [
       "6"
      ]
     },
     "execution_count": 19,
     "metadata": {},
     "output_type": "execute_result"
    }
   ],
   "source": [
    "df.is_anom.isnull().sum()"
   ]
  },
  {
   "cell_type": "code",
   "execution_count": 133,
   "metadata": {
    "collapsed": false
   },
   "outputs": [
    {
     "data": {
      "text/html": [
       "<div>\n",
       "<table border=\"1\" class=\"dataframe\">\n",
       "  <thead>\n",
       "    <tr style=\"text-align: right;\">\n",
       "      <th></th>\n",
       "      <th>uid</th>\n",
       "      <th>idx</th>\n",
       "      <th>method</th>\n",
       "      <th>url</th>\n",
       "      <th>protocol</th>\n",
       "      <th>user_agent</th>\n",
       "      <th>pragma</th>\n",
       "      <th>cache_control</th>\n",
       "      <th>accept</th>\n",
       "      <th>accept_encoding</th>\n",
       "      <th>accept_charset</th>\n",
       "      <th>accept_language</th>\n",
       "      <th>host</th>\n",
       "      <th>connection</th>\n",
       "      <th>content_length</th>\n",
       "      <th>content_type</th>\n",
       "      <th>cookie</th>\n",
       "      <th>payload</th>\n",
       "      <th>label</th>\n",
       "      <th>is_anom</th>\n",
       "    </tr>\n",
       "  </thead>\n",
       "  <tbody>\n",
       "  </tbody>\n",
       "</table>\n",
       "</div>"
      ],
      "text/plain": [
       "Empty DataFrame\n",
       "Columns: [uid, idx, method, url, protocol, user_agent, pragma, cache_control, accept, accept_encoding, accept_charset, accept_language, host, connection, content_length, content_type, cookie, payload, label, is_anom]\n",
       "Index: []"
      ]
     },
     "execution_count": 133,
     "metadata": {},
     "output_type": "execute_result"
    }
   ],
   "source": [
    "df[df.is_anom.isnull()]"
   ]
  },
  {
   "cell_type": "code",
   "execution_count": 20,
   "metadata": {
    "collapsed": false
   },
   "outputs": [],
   "source": [
    "df = df.dropna()"
   ]
  },
  {
   "cell_type": "code",
   "execution_count": 50,
   "metadata": {
    "collapsed": false
   },
   "outputs": [
    {
     "data": {
      "text/plain": [
       "<matplotlib.axes._subplots.AxesSubplot at 0x7f971e280438>"
      ]
     },
     "execution_count": 50,
     "metadata": {},
     "output_type": "execute_result"
    },
    {
     "data": {
      "image/png": "[encoded data removed]",
      "text/plain": [
       "<matplotlib.figure.Figure at 0x7f971ddfe860>"
      ]
     },
     "metadata": {},
     "output_type": "display_data"
    }
   ],
   "source": [
    "df.url.value_counts().plot(kind=\"bar\")"
   ]
  },
  {
   "cell_type": "code",
   "execution_count": 58,
   "metadata": {
    "collapsed": false
   },
   "outputs": [
    {
     "data": {
      "text/html": [
       "<div>\n",
       "<table border=\"1\" class=\"dataframe\">\n",
       "  <thead>\n",
       "    <tr style=\"text-align: right;\">\n",
       "      <th>is_anom</th>\n",
       "      <th>0.0</th>\n",
       "      <th>1.0</th>\n",
       "    </tr>\n",
       "    <tr>\n",
       "      <th>url</th>\n",
       "      <th></th>\n",
       "      <th></th>\n",
       "    </tr>\n",
       "  </thead>\n",
       "  <tbody>\n",
       "    <tr>\n",
       "      <th>http://localhost:8080.BAK</th>\n",
       "      <td>0</td>\n",
       "      <td>19</td>\n",
       "    </tr>\n",
       "    <tr>\n",
       "      <th>http://localhost:8080.Bak</th>\n",
       "      <td>0</td>\n",
       "      <td>20</td>\n",
       "    </tr>\n",
       "    <tr>\n",
       "      <th>http://localhost:8080.INC</th>\n",
       "      <td>0</td>\n",
       "      <td>13</td>\n",
       "    </tr>\n",
       "    <tr>\n",
       "      <th>http://localhost:8080.Inc</th>\n",
       "      <td>0</td>\n",
       "      <td>25</td>\n",
       "    </tr>\n",
       "    <tr>\n",
       "      <th>http://localhost:8080.OLD</th>\n",
       "      <td>0</td>\n",
       "      <td>20</td>\n",
       "    </tr>\n",
       "    <tr>\n",
       "      <th>http://localhost:8080.Old</th>\n",
       "      <td>0</td>\n",
       "      <td>22</td>\n",
       "    </tr>\n",
       "    <tr>\n",
       "      <th>http://localhost:8080.bak</th>\n",
       "      <td>0</td>\n",
       "      <td>23</td>\n",
       "    </tr>\n",
       "    <tr>\n",
       "      <th>http://localhost:8080.inc</th>\n",
       "      <td>0</td>\n",
       "      <td>16</td>\n",
       "    </tr>\n",
       "    <tr>\n",
       "      <th>http://localhost:8080.java</th>\n",
       "      <td>0</td>\n",
       "      <td>16</td>\n",
       "    </tr>\n",
       "    <tr>\n",
       "      <th>http://localhost:8080.old</th>\n",
       "      <td>0</td>\n",
       "      <td>27</td>\n",
       "    </tr>\n",
       "    <tr>\n",
       "      <th>http://localhost:8080/</th>\n",
       "      <td>0</td>\n",
       "      <td>51</td>\n",
       "    </tr>\n",
       "    <tr>\n",
       "      <th>http://localhost:8080/.BAK</th>\n",
       "      <td>0</td>\n",
       "      <td>6</td>\n",
       "    </tr>\n",
       "    <tr>\n",
       "      <th>http://localhost:8080/.Bak</th>\n",
       "      <td>0</td>\n",
       "      <td>1</td>\n",
       "    </tr>\n",
       "    <tr>\n",
       "      <th>http://localhost:8080/.INC</th>\n",
       "      <td>0</td>\n",
       "      <td>6</td>\n",
       "    </tr>\n",
       "    <tr>\n",
       "      <th>http://localhost:8080/.Inc</th>\n",
       "      <td>0</td>\n",
       "      <td>5</td>\n",
       "    </tr>\n",
       "    <tr>\n",
       "      <th>http://localhost:8080/.OLD</th>\n",
       "      <td>0</td>\n",
       "      <td>4</td>\n",
       "    </tr>\n",
       "    <tr>\n",
       "      <th>http://localhost:8080/.Old</th>\n",
       "      <td>0</td>\n",
       "      <td>6</td>\n",
       "    </tr>\n",
       "    <tr>\n",
       "      <th>http://localhost:8080/.bak</th>\n",
       "      <td>0</td>\n",
       "      <td>2</td>\n",
       "    </tr>\n",
       "    <tr>\n",
       "      <th>http://localhost:8080/.inc</th>\n",
       "      <td>0</td>\n",
       "      <td>1</td>\n",
       "    </tr>\n",
       "    <tr>\n",
       "      <th>http://localhost:8080/.java</th>\n",
       "      <td>0</td>\n",
       "      <td>1</td>\n",
       "    </tr>\n",
       "    <tr>\n",
       "      <th>http://localhost:8080/.jsp</th>\n",
       "      <td>0</td>\n",
       "      <td>10</td>\n",
       "    </tr>\n",
       "    <tr>\n",
       "      <th>http://localhost:8080/.old</th>\n",
       "      <td>0</td>\n",
       "      <td>2</td>\n",
       "    </tr>\n",
       "    <tr>\n",
       "      <th>http://localhost:8080/4861362529278789730</th>\n",
       "      <td>0</td>\n",
       "      <td>36</td>\n",
       "    </tr>\n",
       "    <tr>\n",
       "      <th>http://localhost:8080/4861362529278789730.BAK</th>\n",
       "      <td>0</td>\n",
       "      <td>2</td>\n",
       "    </tr>\n",
       "    <tr>\n",
       "      <th>http://localhost:8080/4861362529278789730.Bak</th>\n",
       "      <td>0</td>\n",
       "      <td>3</td>\n",
       "    </tr>\n",
       "    <tr>\n",
       "      <th>http://localhost:8080/4861362529278789730.INC</th>\n",
       "      <td>0</td>\n",
       "      <td>2</td>\n",
       "    </tr>\n",
       "    <tr>\n",
       "      <th>http://localhost:8080/4861362529278789730.Inc</th>\n",
       "      <td>0</td>\n",
       "      <td>2</td>\n",
       "    </tr>\n",
       "    <tr>\n",
       "      <th>http://localhost:8080/4861362529278789730.OLD</th>\n",
       "      <td>0</td>\n",
       "      <td>4</td>\n",
       "    </tr>\n",
       "    <tr>\n",
       "      <th>http://localhost:8080/4861362529278789730.Old</th>\n",
       "      <td>0</td>\n",
       "      <td>2</td>\n",
       "    </tr>\n",
       "    <tr>\n",
       "      <th>http://localhost:8080/4861362529278789730.bak</th>\n",
       "      <td>0</td>\n",
       "      <td>4</td>\n",
       "    </tr>\n",
       "    <tr>\n",
       "      <th>...</th>\n",
       "      <td>...</td>\n",
       "      <td>...</td>\n",
       "    </tr>\n",
       "    <tr>\n",
       "      <th>http://localhost:8080/tienda1/publico/vaciar.jsp/asf-logo-wide.gif/.BAK</th>\n",
       "      <td>0</td>\n",
       "      <td>1</td>\n",
       "    </tr>\n",
       "    <tr>\n",
       "      <th>http://localhost:8080/tienda1/publico/vaciar.jsp/asf-logo-wide.gif/.OLD</th>\n",
       "      <td>0</td>\n",
       "      <td>1</td>\n",
       "    </tr>\n",
       "    <tr>\n",
       "      <th>http://localhost:8080/tienda1/publico/vaciar.jsp/asf-logo-wide.gif/.Old</th>\n",
       "      <td>0</td>\n",
       "      <td>1</td>\n",
       "    </tr>\n",
       "    <tr>\n",
       "      <th>http://localhost:8080/tienda1/publico/vaciar.jsp/asf-logo-wide.gif/.bak</th>\n",
       "      <td>0</td>\n",
       "      <td>1</td>\n",
       "    </tr>\n",
       "    <tr>\n",
       "      <th>http://localhost:8080/tienda1/publico/vaciar.jsp/asf-logo-wide.gif/.inc</th>\n",
       "      <td>0</td>\n",
       "      <td>1</td>\n",
       "    </tr>\n",
       "    <tr>\n",
       "      <th>http://localhost:8080/tienda1/publico/vaciar.jsp/asf-logo-wide.gif/.old</th>\n",
       "      <td>0</td>\n",
       "      <td>1</td>\n",
       "    </tr>\n",
       "    <tr>\n",
       "      <th>http://localhost:8080/tienda1/publico/vaciar.jsp/asf-logo-wide.gif/~</th>\n",
       "      <td>0</td>\n",
       "      <td>1</td>\n",
       "    </tr>\n",
       "    <tr>\n",
       "      <th>http://localhost:8080/tienda1/publico/vaciar.jsp~</th>\n",
       "      <td>0</td>\n",
       "      <td>2</td>\n",
       "    </tr>\n",
       "    <tr>\n",
       "      <th>http://localhost:8080/tienda1/publico/~</th>\n",
       "      <td>0</td>\n",
       "      <td>2</td>\n",
       "    </tr>\n",
       "    <tr>\n",
       "      <th>http://localhost:8080/tienda1/publico~</th>\n",
       "      <td>0</td>\n",
       "      <td>8</td>\n",
       "    </tr>\n",
       "    <tr>\n",
       "      <th>http://localhost:8080/tienda1/~</th>\n",
       "      <td>0</td>\n",
       "      <td>5</td>\n",
       "    </tr>\n",
       "    <tr>\n",
       "      <th>http://localhost:8080/tienda1~</th>\n",
       "      <td>0</td>\n",
       "      <td>20</td>\n",
       "    </tr>\n",
       "    <tr>\n",
       "      <th>http://localhost:8080/travelnet/home.jsp</th>\n",
       "      <td>0</td>\n",
       "      <td>11</td>\n",
       "    </tr>\n",
       "    <tr>\n",
       "      <th>http://localhost:8080/vti_txt/</th>\n",
       "      <td>0</td>\n",
       "      <td>9</td>\n",
       "    </tr>\n",
       "    <tr>\n",
       "      <th>http://localhost:8080/webadmin.nsf</th>\n",
       "      <td>0</td>\n",
       "      <td>7</td>\n",
       "    </tr>\n",
       "    <tr>\n",
       "      <th>http://localhost:8080/webapp/examples/ErrorServlet</th>\n",
       "      <td>0</td>\n",
       "      <td>5</td>\n",
       "    </tr>\n",
       "    <tr>\n",
       "      <th>http://localhost:8080/webapp/examples/HelloPervasive</th>\n",
       "      <td>0</td>\n",
       "      <td>13</td>\n",
       "    </tr>\n",
       "    <tr>\n",
       "      <th>http://localhost:8080/webapp/examples/HitCount</th>\n",
       "      <td>0</td>\n",
       "      <td>12</td>\n",
       "    </tr>\n",
       "    <tr>\n",
       "      <th>http://localhost:8080/webapp/examples/login.html</th>\n",
       "      <td>0</td>\n",
       "      <td>5</td>\n",
       "    </tr>\n",
       "    <tr>\n",
       "      <th>http://localhost:8080/webapp/examples/ping</th>\n",
       "      <td>0</td>\n",
       "      <td>6</td>\n",
       "    </tr>\n",
       "    <tr>\n",
       "      <th>http://localhost:8080/webapp/examples/showcfg</th>\n",
       "      <td>0</td>\n",
       "      <td>11</td>\n",
       "    </tr>\n",
       "    <tr>\n",
       "      <th>http://localhost:8080/webapp/examples/simple.jsp</th>\n",
       "      <td>0</td>\n",
       "      <td>5</td>\n",
       "    </tr>\n",
       "    <tr>\n",
       "      <th>http://localhost:8080/webapp/examples/verify</th>\n",
       "      <td>0</td>\n",
       "      <td>6</td>\n",
       "    </tr>\n",
       "    <tr>\n",
       "      <th>http://localhost:8080/wliconsole</th>\n",
       "      <td>0</td>\n",
       "      <td>5</td>\n",
       "    </tr>\n",
       "    <tr>\n",
       "      <th>http://localhost:8080/worldmusic/action/catalog</th>\n",
       "      <td>0</td>\n",
       "      <td>5</td>\n",
       "    </tr>\n",
       "    <tr>\n",
       "      <th>http://localhost:8080/worldmusic/action/cdlist</th>\n",
       "      <td>0</td>\n",
       "      <td>4</td>\n",
       "    </tr>\n",
       "    <tr>\n",
       "      <th>http://localhost:8080/ws-client/loanCalculation.jsp</th>\n",
       "      <td>0</td>\n",
       "      <td>7</td>\n",
       "    </tr>\n",
       "    <tr>\n",
       "      <th>http://localhost:8080/~</th>\n",
       "      <td>0</td>\n",
       "      <td>6</td>\n",
       "    </tr>\n",
       "    <tr>\n",
       "      <th>http://localhost:8080http://localhost:9090/examplesWebApp/OrderParser.jsp</th>\n",
       "      <td>0</td>\n",
       "      <td>17</td>\n",
       "    </tr>\n",
       "    <tr>\n",
       "      <th>http://localhost:8080~</th>\n",
       "      <td>0</td>\n",
       "      <td>13</td>\n",
       "    </tr>\n",
       "  </tbody>\n",
       "</table>\n",
       "<p>1643 rows × 2 columns</p>\n",
       "</div>"
      ],
      "text/plain": [
       "is_anom                                             0   1\n",
       "url                                                      \n",
       "http://localhost:8080.BAK                           0  19\n",
       "http://localhost:8080.Bak                           0  20\n",
       "http://localhost:8080.INC                           0  13\n",
       "http://localhost:8080.Inc                           0  25\n",
       "http://localhost:8080.OLD                           0  20\n",
       "http://localhost:8080.Old                           0  22\n",
       "http://localhost:8080.bak                           0  23\n",
       "http://localhost:8080.inc                           0  16\n",
       "http://localhost:8080.java                          0  16\n",
       "http://localhost:8080.old                           0  27\n",
       "http://localhost:8080/                              0  51\n",
       "http://localhost:8080/.BAK                          0   6\n",
       "http://localhost:8080/.Bak                          0   1\n",
       "http://localhost:8080/.INC                          0   6\n",
       "http://localhost:8080/.Inc                          0   5\n",
       "http://localhost:8080/.OLD                          0   4\n",
       "http://localhost:8080/.Old                          0   6\n",
       "http://localhost:8080/.bak                          0   2\n",
       "http://localhost:8080/.inc                          0   1\n",
       "http://localhost:8080/.java                         0   1\n",
       "http://localhost:8080/.jsp                          0  10\n",
       "http://localhost:8080/.old                          0   2\n",
       "http://localhost:8080/4861362529278789730           0  36\n",
       "http://localhost:8080/4861362529278789730.BAK       0   2\n",
       "http://localhost:8080/4861362529278789730.Bak       0   3\n",
       "http://localhost:8080/4861362529278789730.INC       0   2\n",
       "http://localhost:8080/4861362529278789730.Inc       0   2\n",
       "http://localhost:8080/4861362529278789730.OLD       0   4\n",
       "http://localhost:8080/4861362529278789730.Old       0   2\n",
       "http://localhost:8080/4861362529278789730.bak       0   4\n",
       "...                                                ..  ..\n",
       "http://localhost:8080/tienda1/publico/vaciar.js...  0   1\n",
       "http://localhost:8080/tienda1/publico/vaciar.js...  0   1\n",
       "http://localhost:8080/tienda1/publico/vaciar.js...  0   1\n",
       "http://localhost:8080/tienda1/publico/vaciar.js...  0   1\n",
       "http://localhost:8080/tienda1/publico/vaciar.js...  0   1\n",
       "http://localhost:8080/tienda1/publico/vaciar.js...  0   1\n",
       "http://localhost:8080/tienda1/publico/vaciar.js...  0   1\n",
       "http://localhost:8080/tienda1/publico/vaciar.jsp~   0   2\n",
       "http://localhost:8080/tienda1/publico/~             0   2\n",
       "http://localhost:8080/tienda1/publico~              0   8\n",
       "http://localhost:8080/tienda1/~                     0   5\n",
       "http://localhost:8080/tienda1~                      0  20\n",
       "http://localhost:8080/travelnet/home.jsp            0  11\n",
       "http://localhost:8080/vti_txt/                      0   9\n",
       "http://localhost:8080/webadmin.nsf                  0   7\n",
       "http://localhost:8080/webapp/examples/ErrorServlet  0   5\n",
       "http://localhost:8080/webapp/examples/HelloPerv...  0  13\n",
       "http://localhost:8080/webapp/examples/HitCount      0  12\n",
       "http://localhost:8080/webapp/examples/login.html    0   5\n",
       "http://localhost:8080/webapp/examples/ping          0   6\n",
       "http://localhost:8080/webapp/examples/showcfg       0  11\n",
       "http://localhost:8080/webapp/examples/simple.jsp    0   5\n",
       "http://localhost:8080/webapp/examples/verify        0   6\n",
       "http://localhost:8080/wliconsole                    0   5\n",
       "http://localhost:8080/worldmusic/action/catalog     0   5\n",
       "http://localhost:8080/worldmusic/action/cdlist      0   4\n",
       "http://localhost:8080/ws-client/loanCalculation...  0   7\n",
       "http://localhost:8080/~                             0   6\n",
       "http://localhost:8080http://localhost:9090/exam...  0  17\n",
       "http://localhost:8080~                              0  13\n",
       "\n",
       "[1643 rows x 2 columns]"
      ]
     },
     "execution_count": 58,
     "metadata": {},
     "output_type": "execute_result"
    }
   ],
   "source": [
    "ad = pd.crosstab(df.url, df.is_anom)\n",
    "ad"
   ]
  },
  {
   "cell_type": "code",
   "execution_count": 134,
   "metadata": {
    "collapsed": false
   },
   "outputs": [
    {
     "data": {
      "text/html": [
       "<div>\n",
       "<table border=\"1\" class=\"dataframe\">\n",
       "  <thead>\n",
       "    <tr style=\"text-align: right;\">\n",
       "      <th>is_anom</th>\n",
       "      <th>0.0</th>\n",
       "      <th>1.0</th>\n",
       "    </tr>\n",
       "    <tr>\n",
       "      <th>method</th>\n",
       "      <th></th>\n",
       "      <th></th>\n",
       "    </tr>\n",
       "  </thead>\n",
       "  <tbody>\n",
       "    <tr>\n",
       "      <th>GET</th>\n",
       "      <td>61998</td>\n",
       "      <td>61447</td>\n",
       "    </tr>\n",
       "    <tr>\n",
       "      <th>POST</th>\n",
       "      <td>41998</td>\n",
       "      <td>55939</td>\n",
       "    </tr>\n",
       "    <tr>\n",
       "      <th>PUT</th>\n",
       "      <td>0</td>\n",
       "      <td>2193</td>\n",
       "    </tr>\n",
       "  </tbody>\n",
       "</table>\n",
       "</div>"
      ],
      "text/plain": [
       "is_anom      0      1\n",
       "method               \n",
       "GET      61998  61447\n",
       "POST     41998  55939\n",
       "PUT          0   2193"
      ]
     },
     "execution_count": 134,
     "metadata": {},
     "output_type": "execute_result"
    }
   ],
   "source": [
    "pd.crosstab(df.method, df.is_anom)"
   ]
  },
  {
   "cell_type": "code",
   "execution_count": 13,
   "metadata": {
    "collapsed": true
   },
   "outputs": [],
   "source": [
    "from sklearn.feature_extraction.text import TfidfVectorizer\n",
    "from sklearn.linear_model.logistic import LogisticRegression\n",
    "from sklearn.cross_validation import train_test_split, cross_val_score"
   ]
  },
  {
   "cell_type": "code",
   "execution_count": 21,
   "metadata": {
    "collapsed": false
   },
   "outputs": [],
   "source": [
    "X_train_raw, X_test_raw, y_train, y_test = train_test_split(df[\"payload\"], df[\"is_anom\"])"
   ]
  },
  {
   "cell_type": "code",
   "execution_count": 22,
   "metadata": {
    "collapsed": true
   },
   "outputs": [],
   "source": [
    "vectorizer = TfidfVectorizer()\n",
    "X_train = vectorizer.fit_transform(X_train_raw)\n",
    "X_test = vectorizer.transform(X_test_raw)"
   ]
  },
  {
   "cell_type": "code",
   "execution_count": 23,
   "metadata": {
    "collapsed": false
   },
   "outputs": [],
   "source": [
    "classifier = LogisticRegression()\n",
    "classifier.fit(X_train, y_train)\n",
    "predictions = classifier.predict(X_test)"
   ]
  },
  {
   "cell_type": "code",
   "execution_count": 149,
   "metadata": {
    "collapsed": false
   },
   "outputs": [
    {
     "name": "stdout",
     "output_type": "stream",
     "text": [
      "[ 0.  1.  1.  0.  0.]\n",
      "127727             password=BOCana$da\n",
      "28288     apellidos=T�rtola Planelles\n",
      "198201                 login=mathieso\n",
      "149653                               \n",
      "126268               ciudad=Cantalejo\n",
      "Name: payload, dtype: object\n"
     ]
    }
   ],
   "source": [
    "print(predictions[:5])\n",
    "print(X_test_raw[:5])"
   ]
  },
  {
   "cell_type": "code",
   "execution_count": 150,
   "metadata": {
    "collapsed": false
   },
   "outputs": [
    {
     "data": {
      "text/plain": [
       "Index(['uid', 'idx', 'method', 'url', 'protocol', 'user_agent', 'pragma',\n",
       "       'cache_control', 'accept', 'accept_encoding', 'accept_charset',\n",
       "       'accept_language', 'host', 'connection', 'content_length',\n",
       "       'content_type', 'cookie', 'payload', 'label', 'is_anom'],\n",
       "      dtype='object')"
      ]
     },
     "execution_count": 150,
     "metadata": {},
     "output_type": "execute_result"
    }
   ],
   "source": [
    "df.columns"
   ]
  },
  {
   "cell_type": "code",
   "execution_count": 154,
   "metadata": {
    "collapsed": false
   },
   "outputs": [
    {
     "name": "stdout",
     "output_type": "stream",
     "text": [
      "(55894,)\n",
      "(55894,)\n"
     ]
    }
   ],
   "source": [
    "print(y_test.shape)\n",
    "print(predictions.shape)"
   ]
  },
  {
   "cell_type": "code",
   "execution_count": 156,
   "metadata": {
    "collapsed": false
   },
   "outputs": [
    {
     "name": "stdout",
     "output_type": "stream",
     "text": [
      "[[16175  9731]\n",
      " [ 2761 27227]]\n"
     ]
    },
    {
     "data": {
      "image/png": "[encoded data removed]",
      "text/plain": [
       "<matplotlib.figure.Figure at 0x7f9660a0aba8>"
      ]
     },
     "metadata": {},
     "output_type": "display_data"
    }
   ],
   "source": [
    "from sklearn.metrics import confusion_matrix\n",
    "import matplotlib.pyplot as plt\n",
    "mtrx = confusion_matrix(y_test, predictions)\n",
    "print(mtrx)\n",
    "plt.matshow(mtrx)\n",
    "plt.title(\"confusion matrix\")\n",
    "plt.colorbar()\n",
    "plt.ylabel(\"true label\")\n",
    "plt.xlabel(\"predicted label\")\n",
    "plt.show()"
   ]
  },
  {
   "cell_type": "code",
   "execution_count": 24,
   "metadata": {
    "collapsed": false
   },
   "outputs": [
    {
     "name": "stdout",
     "output_type": "stream",
     "text": [
      "('accuracy ', 0.7779546999677962)\n"
     ]
    }
   ],
   "source": [
    "from sklearn.metrics import accuracy_score\n",
    "print(\"accuracy \", accuracy_score(y_test, predictions))"
   ]
  },
  {
   "cell_type": "code",
   "execution_count": 26,
   "metadata": {
    "collapsed": false
   },
   "outputs": [
    {
     "data": {
      "text/plain": [
       "0.46369914480981855"
      ]
     },
     "execution_count": 26,
     "metadata": {},
     "output_type": "execute_result"
    }
   ],
   "source": [
    "# null classifier\n",
    "1 - y_test.mean()"
   ]
  },
  {
   "cell_type": "code",
   "execution_count": 159,
   "metadata": {
    "collapsed": false
   },
   "outputs": [
    {
     "name": "stdout",
     "output_type": "stream",
     "text": [
      "precision  0.731994055815\n",
      "recall  0.898929548784\n",
      "F1 0.806911921305\n"
     ]
    }
   ],
   "source": [
    "precisions = cross_val_score(classifier, X_train, y_train, cv=5, scoring='precision')\n",
    "recalls = cross_val_score(classifier, X_train, y_train, cv=5, scoring='recall')\n",
    "f1s = cross_val_score(classifier, X_train, y_train, cv=5, scoring='f1')\n",
    "print(\"precision \", np.mean(precisions))\n",
    "print(\"recall \", np.mean(recalls))\n",
    "print(\"F1\", np.mean(f1s))"
   ]
  },
  {
   "cell_type": "code",
   "execution_count": 171,
   "metadata": {
    "collapsed": false
   },
   "outputs": [
    {
     "name": "stdout",
     "output_type": "stream",
     "text": [
      "(167681,)\n",
      "(167681,)\n"
     ]
    }
   ],
   "source": [
    "print(y_train.shape)\n",
    "print(X_train_raw.shape)"
   ]
  },
  {
   "cell_type": "code",
   "execution_count": 182,
   "metadata": {
    "collapsed": false
   },
   "outputs": [],
   "source": [
    "aa = pd.concat([X_train_raw, y_train], axis=1)"
   ]
  },
  {
   "cell_type": "code",
   "execution_count": 183,
   "metadata": {
    "collapsed": false
   },
   "outputs": [
    {
     "data": {
      "text/html": [
       "<div>\n",
       "<table border=\"1\" class=\"dataframe\">\n",
       "  <thead>\n",
       "    <tr style=\"text-align: right;\">\n",
       "      <th></th>\n",
       "      <th>payload</th>\n",
       "      <th>is_anom</th>\n",
       "    </tr>\n",
       "  </thead>\n",
       "  <tbody>\n",
       "    <tr>\n",
       "      <th>197098</th>\n",
       "      <td>nombre=Monitor</td>\n",
       "      <td>0</td>\n",
       "    </tr>\n",
       "    <tr>\n",
       "      <th>152106</th>\n",
       "      <td></td>\n",
       "      <td>0</td>\n",
       "    </tr>\n",
       "    <tr>\n",
       "      <th>163578</th>\n",
       "      <td></td>\n",
       "      <td>0</td>\n",
       "    </tr>\n",
       "    <tr>\n",
       "      <th>100490</th>\n",
       "      <td>provincia=Ja�n</td>\n",
       "      <td>1</td>\n",
       "    </tr>\n",
       "    <tr>\n",
       "      <th>68839</th>\n",
       "      <td>pwd=any%3F%0D%0ASet-cookie%3A+Tamper%3D1041264...</td>\n",
       "      <td>1</td>\n",
       "    </tr>\n",
       "  </tbody>\n",
       "</table>\n",
       "</div>"
      ],
      "text/plain": [
       "                                                  payload  is_anom\n",
       "197098                                     nombre=Monitor        0\n",
       "152106                                                           0\n",
       "163578                                                           0\n",
       "100490                                     provincia=Ja�n        1\n",
       "68839   pwd=any%3F%0D%0ASet-cookie%3A+Tamper%3D1041264...        1"
      ]
     },
     "execution_count": 183,
     "metadata": {},
     "output_type": "execute_result"
    }
   ],
   "source": [
    "aa.head()"
   ]
  },
  {
   "cell_type": "code",
   "execution_count": 184,
   "metadata": {
    "collapsed": false
   },
   "outputs": [
    {
     "data": {
      "text/html": [
       "<div>\n",
       "<table border=\"1\" class=\"dataframe\">\n",
       "  <thead>\n",
       "    <tr style=\"text-align: right;\">\n",
       "      <th></th>\n",
       "      <th>payload</th>\n",
       "      <th>is_anom</th>\n",
       "    </tr>\n",
       "  </thead>\n",
       "  <tbody>\n",
       "    <tr>\n",
       "      <th>100490</th>\n",
       "      <td>provincia=Ja�n</td>\n",
       "      <td>1</td>\n",
       "    </tr>\n",
       "    <tr>\n",
       "      <th>68839</th>\n",
       "      <td>pwd=any%3F%0D%0ASet-cookie%3A+Tamper%3D1041264...</td>\n",
       "      <td>1</td>\n",
       "    </tr>\n",
       "    <tr>\n",
       "      <th>99015</th>\n",
       "      <td>nombre=Merl�n</td>\n",
       "      <td>1</td>\n",
       "    </tr>\n",
       "    <tr>\n",
       "      <th>80268</th>\n",
       "      <td>cp=04531</td>\n",
       "      <td>1</td>\n",
       "    </tr>\n",
       "    <tr>\n",
       "      <th>37495</th>\n",
       "      <td>B1=Registrar</td>\n",
       "      <td>1</td>\n",
       "    </tr>\n",
       "    <tr>\n",
       "      <th>87086</th>\n",
       "      <td>login=carry</td>\n",
       "      <td>1</td>\n",
       "    </tr>\n",
       "    <tr>\n",
       "      <th>58046</th>\n",
       "      <td>precio=1400</td>\n",
       "      <td>1</td>\n",
       "    </tr>\n",
       "    <tr>\n",
       "      <th>54500</th>\n",
       "      <td>id=3</td>\n",
       "      <td>1</td>\n",
       "    </tr>\n",
       "    <tr>\n",
       "      <th>70472</th>\n",
       "      <td>login=perlmutt</td>\n",
       "      <td>1</td>\n",
       "    </tr>\n",
       "    <tr>\n",
       "      <th>107951</th>\n",
       "      <td>modo=registro</td>\n",
       "      <td>1</td>\n",
       "    </tr>\n",
       "    <tr>\n",
       "      <th>75685</th>\n",
       "      <td>precio=100</td>\n",
       "      <td>1</td>\n",
       "    </tr>\n",
       "    <tr>\n",
       "      <th>18039</th>\n",
       "      <td>modoA=insertar</td>\n",
       "      <td>1</td>\n",
       "    </tr>\n",
       "    <tr>\n",
       "      <th>107272</th>\n",
       "      <td>ciudad=Quintanilla de Arriba</td>\n",
       "      <td>1</td>\n",
       "    </tr>\n",
       "    <tr>\n",
       "      <th>59278</th>\n",
       "      <td>cp=04888</td>\n",
       "      <td>1</td>\n",
       "    </tr>\n",
       "    <tr>\n",
       "      <th>9814</th>\n",
       "      <td></td>\n",
       "      <td>1</td>\n",
       "    </tr>\n",
       "    <tr>\n",
       "      <th>81112</th>\n",
       "      <td>cantidad=47</td>\n",
       "      <td>1</td>\n",
       "    </tr>\n",
       "    <tr>\n",
       "      <th>66439</th>\n",
       "      <td>ciudad=Nov�s</td>\n",
       "      <td>1</td>\n",
       "    </tr>\n",
       "    <tr>\n",
       "      <th>62699</th>\n",
       "      <td>provincia=Asturias</td>\n",
       "      <td>1</td>\n",
       "    </tr>\n",
       "    <tr>\n",
       "      <th>68310</th>\n",
       "      <td>ntc=4326433486745952</td>\n",
       "      <td>1</td>\n",
       "    </tr>\n",
       "    <tr>\n",
       "      <th>26553</th>\n",
       "      <td>id=2/</td>\n",
       "      <td>1</td>\n",
       "    </tr>\n",
       "    <tr>\n",
       "      <th>92776</th>\n",
       "      <td>nombre=Licia</td>\n",
       "      <td>1</td>\n",
       "    </tr>\n",
       "    <tr>\n",
       "      <th>84137</th>\n",
       "      <td>email=santacroce_prueckner@puravidasa.bn</td>\n",
       "      <td>1</td>\n",
       "    </tr>\n",
       "    <tr>\n",
       "      <th>24602</th>\n",
       "      <td>direccion=Bruma, 172 4?B</td>\n",
       "      <td>1</td>\n",
       "    </tr>\n",
       "    <tr>\n",
       "      <th>22596</th>\n",
       "      <td></td>\n",
       "      <td>1</td>\n",
       "    </tr>\n",
       "    <tr>\n",
       "      <th>23945</th>\n",
       "      <td>errorMsgA=Credenciales incorrectas</td>\n",
       "      <td>1</td>\n",
       "    </tr>\n",
       "    <tr>\n",
       "      <th>55242</th>\n",
       "      <td>dni=96580643D</td>\n",
       "      <td>1</td>\n",
       "    </tr>\n",
       "    <tr>\n",
       "      <th>32233</th>\n",
       "      <td>nombre=Ercilio</td>\n",
       "      <td>1</td>\n",
       "    </tr>\n",
       "    <tr>\n",
       "      <th>61730</th>\n",
       "      <td>remember=on</td>\n",
       "      <td>1</td>\n",
       "    </tr>\n",
       "    <tr>\n",
       "      <th>114753</th>\n",
       "      <td>nombre=Vino Rioja</td>\n",
       "      <td>1</td>\n",
       "    </tr>\n",
       "    <tr>\n",
       "      <th>103870</th>\n",
       "      <td>B1=Registrar+</td>\n",
       "      <td>1</td>\n",
       "    </tr>\n",
       "    <tr>\n",
       "      <th>...</th>\n",
       "      <td>...</td>\n",
       "      <td>...</td>\n",
       "    </tr>\n",
       "    <tr>\n",
       "      <th>118933</th>\n",
       "      <td>provincia=Lleida</td>\n",
       "      <td>1</td>\n",
       "    </tr>\n",
       "    <tr>\n",
       "      <th>44699</th>\n",
       "      <td>B1=A�adir al carrito</td>\n",
       "      <td>1</td>\n",
       "    </tr>\n",
       "    <tr>\n",
       "      <th>12586</th>\n",
       "      <td>id=2</td>\n",
       "      <td>1</td>\n",
       "    </tr>\n",
       "    <tr>\n",
       "      <th>35000</th>\n",
       "      <td>apellidos=Serracana Abt</td>\n",
       "      <td>1</td>\n",
       "    </tr>\n",
       "    <tr>\n",
       "      <th>117845</th>\n",
       "      <td>apellidos=Varela Pulido</td>\n",
       "      <td>1</td>\n",
       "    </tr>\n",
       "    <tr>\n",
       "      <th>116631</th>\n",
       "      <td>pwd=PaRLaNch�n</td>\n",
       "      <td>1</td>\n",
       "    </tr>\n",
       "    <tr>\n",
       "      <th>99742</th>\n",
       "      <td>precio=3714</td>\n",
       "      <td>1</td>\n",
       "    </tr>\n",
       "    <tr>\n",
       "      <th>68864</th>\n",
       "      <td>modo=registro</td>\n",
       "      <td>1</td>\n",
       "    </tr>\n",
       "    <tr>\n",
       "      <th>77484</th>\n",
       "      <td>remember=on</td>\n",
       "      <td>1</td>\n",
       "    </tr>\n",
       "    <tr>\n",
       "      <th>99660</th>\n",
       "      <td>dni=79845869N</td>\n",
       "      <td>1</td>\n",
       "    </tr>\n",
       "    <tr>\n",
       "      <th>17926</th>\n",
       "      <td>nombre=Laura</td>\n",
       "      <td>1</td>\n",
       "    </tr>\n",
       "    <tr>\n",
       "      <th>49535</th>\n",
       "      <td>direccion=C/ Jose Gomez Posada-curros 53 10?H</td>\n",
       "      <td>1</td>\n",
       "    </tr>\n",
       "    <tr>\n",
       "      <th>44888</th>\n",
       "      <td>modo=registro</td>\n",
       "      <td>1</td>\n",
       "    </tr>\n",
       "    <tr>\n",
       "      <th>23029</th>\n",
       "      <td>modo=registro</td>\n",
       "      <td>1</td>\n",
       "    </tr>\n",
       "    <tr>\n",
       "      <th>2455</th>\n",
       "      <td>direccion=Nardo, 106, 7-H</td>\n",
       "      <td>1</td>\n",
       "    </tr>\n",
       "    <tr>\n",
       "      <th>101115</th>\n",
       "      <td>provincia=Barcelona</td>\n",
       "      <td>1</td>\n",
       "    </tr>\n",
       "    <tr>\n",
       "      <th>78059</th>\n",
       "      <td>apellidos=Ricciardiello Ameller</td>\n",
       "      <td>1</td>\n",
       "    </tr>\n",
       "    <tr>\n",
       "      <th>62412</th>\n",
       "      <td>errorMsg=Credenciales incorrectas%3F</td>\n",
       "      <td>1</td>\n",
       "    </tr>\n",
       "    <tr>\n",
       "      <th>23285</th>\n",
       "      <td>id=2</td>\n",
       "      <td>1</td>\n",
       "    </tr>\n",
       "    <tr>\n",
       "      <th>7216</th>\n",
       "      <td>B1=Registrar</td>\n",
       "      <td>1</td>\n",
       "    </tr>\n",
       "    <tr>\n",
       "      <th>9249</th>\n",
       "      <td>errorMsgA=Credenciales incorrectas</td>\n",
       "      <td>1</td>\n",
       "    </tr>\n",
       "    <tr>\n",
       "      <th>115029</th>\n",
       "      <td>login=tejani</td>\n",
       "      <td>1</td>\n",
       "    </tr>\n",
       "    <tr>\n",
       "      <th>87091</th>\n",
       "      <td>dni=22299277H</td>\n",
       "      <td>1</td>\n",
       "    </tr>\n",
       "    <tr>\n",
       "      <th>33959</th>\n",
       "      <td>ciudad=Moreruela de los Infanzones</td>\n",
       "      <td>1</td>\n",
       "    </tr>\n",
       "    <tr>\n",
       "      <th>88231</th>\n",
       "      <td>modo=registro</td>\n",
       "      <td>1</td>\n",
       "    </tr>\n",
       "    <tr>\n",
       "      <th>5541</th>\n",
       "      <td>B1=Entrar</td>\n",
       "      <td>1</td>\n",
       "    </tr>\n",
       "    <tr>\n",
       "      <th>79763</th>\n",
       "      <td>B1=Pasar por caja</td>\n",
       "      <td>1</td>\n",
       "    </tr>\n",
       "    <tr>\n",
       "      <th>1455</th>\n",
       "      <td>password=MIsa9tr�PicA</td>\n",
       "      <td>1</td>\n",
       "    </tr>\n",
       "    <tr>\n",
       "      <th>62328</th>\n",
       "      <td>cp=03345</td>\n",
       "      <td>1</td>\n",
       "    </tr>\n",
       "    <tr>\n",
       "      <th>28081</th>\n",
       "      <td>provincia=Vizcaya</td>\n",
       "      <td>1</td>\n",
       "    </tr>\n",
       "  </tbody>\n",
       "</table>\n",
       "<p>89591 rows × 2 columns</p>\n",
       "</div>"
      ],
      "text/plain": [
       "                                                  payload  is_anom\n",
       "100490                                     provincia=Ja�n        1\n",
       "68839   pwd=any%3F%0D%0ASet-cookie%3A+Tamper%3D1041264...        1\n",
       "99015                                       nombre=Merl�n        1\n",
       "80268                                            cp=04531        1\n",
       "37495                                        B1=Registrar        1\n",
       "87086                                         login=carry        1\n",
       "58046                                         precio=1400        1\n",
       "54500                                                id=3        1\n",
       "70472                                      login=perlmutt        1\n",
       "107951                                      modo=registro        1\n",
       "75685                                          precio=100        1\n",
       "18039                                      modoA=insertar        1\n",
       "107272                       ciudad=Quintanilla de Arriba        1\n",
       "59278                                            cp=04888        1\n",
       "9814                                                             1\n",
       "81112                                         cantidad=47        1\n",
       "66439                                        ciudad=Nov�s        1\n",
       "62699                                  provincia=Asturias        1\n",
       "68310                                ntc=4326433486745952        1\n",
       "26553                                               id=2/        1\n",
       "92776                                        nombre=Licia        1\n",
       "84137            email=santacroce_prueckner@puravidasa.bn        1\n",
       "24602                            direccion=Bruma, 172 4?B        1\n",
       "22596                                                            1\n",
       "23945                  errorMsgA=Credenciales incorrectas        1\n",
       "55242                                       dni=96580643D        1\n",
       "32233                                      nombre=Ercilio        1\n",
       "61730                                         remember=on        1\n",
       "114753                                  nombre=Vino Rioja        1\n",
       "103870                                      B1=Registrar+        1\n",
       "...                                                   ...      ...\n",
       "118933                                   provincia=Lleida        1\n",
       "44699                                B1=A�adir al carrito        1\n",
       "12586                                                id=2        1\n",
       "35000                             apellidos=Serracana Abt        1\n",
       "117845                            apellidos=Varela Pulido        1\n",
       "116631                                     pwd=PaRLaNch�n        1\n",
       "99742                                         precio=3714        1\n",
       "68864                                       modo=registro        1\n",
       "77484                                         remember=on        1\n",
       "99660                                       dni=79845869N        1\n",
       "17926                                        nombre=Laura        1\n",
       "49535       direccion=C/ Jose Gomez Posada-curros 53 10?H        1\n",
       "44888                                       modo=registro        1\n",
       "23029                                       modo=registro        1\n",
       "2455                            direccion=Nardo, 106, 7-H        1\n",
       "101115                                provincia=Barcelona        1\n",
       "78059                     apellidos=Ricciardiello Ameller        1\n",
       "62412                errorMsg=Credenciales incorrectas%3F        1\n",
       "23285                                                id=2        1\n",
       "7216                                         B1=Registrar        1\n",
       "9249                   errorMsgA=Credenciales incorrectas        1\n",
       "115029                                       login=tejani        1\n",
       "87091                                       dni=22299277H        1\n",
       "33959                  ciudad=Moreruela de los Infanzones        1\n",
       "88231                                       modo=registro        1\n",
       "5541                                            B1=Entrar        1\n",
       "79763                                   B1=Pasar por caja        1\n",
       "1455                                password=MIsa9tr�PicA        1\n",
       "62328                                            cp=03345        1\n",
       "28081                                   provincia=Vizcaya        1\n",
       "\n",
       "[89591 rows x 2 columns]"
      ]
     },
     "execution_count": 184,
     "metadata": {},
     "output_type": "execute_result"
    }
   ],
   "source": [
    "aa[aa.is_anom == 1]"
   ]
  },
  {
   "cell_type": "code",
   "execution_count": 185,
   "metadata": {
    "collapsed": false
   },
   "outputs": [
    {
     "data": {
      "text/html": [
       "<div>\n",
       "<table border=\"1\" class=\"dataframe\">\n",
       "  <thead>\n",
       "    <tr style=\"text-align: right;\">\n",
       "      <th></th>\n",
       "      <th>uid</th>\n",
       "      <th>idx</th>\n",
       "      <th>method</th>\n",
       "      <th>url</th>\n",
       "      <th>protocol</th>\n",
       "      <th>user_agent</th>\n",
       "      <th>pragma</th>\n",
       "      <th>cache_control</th>\n",
       "      <th>accept</th>\n",
       "      <th>accept_encoding</th>\n",
       "      <th>accept_charset</th>\n",
       "      <th>accept_language</th>\n",
       "      <th>host</th>\n",
       "      <th>connection</th>\n",
       "      <th>content_length</th>\n",
       "      <th>content_type</th>\n",
       "      <th>cookie</th>\n",
       "      <th>payload</th>\n",
       "      <th>label</th>\n",
       "      <th>is_anom</th>\n",
       "    </tr>\n",
       "  </thead>\n",
       "  <tbody>\n",
       "    <tr>\n",
       "      <th>17926</th>\n",
       "      <td>17926</td>\n",
       "      <td>4421</td>\n",
       "      <td>GET</td>\n",
       "      <td>http://localhost:8080/tienda1/publico/registro...</td>\n",
       "      <td>HTTP/1.1</td>\n",
       "      <td>Mozilla/5.0 (compatible; Konqueror/3.5; Linux)...</td>\n",
       "      <td>no-cache</td>\n",
       "      <td>no-cache</td>\n",
       "      <td>text/xml,application/xml,application/xhtml+xml...</td>\n",
       "      <td>x-gzip, x-deflate, gzip, deflate</td>\n",
       "      <td>utf-8, utf-8;q=0.5, *;q=0.5</td>\n",
       "      <td>en</td>\n",
       "      <td>localhost:8080</td>\n",
       "      <td>close</td>\n",
       "      <td>null</td>\n",
       "      <td>null</td>\n",
       "      <td>JSESSIONID=363E69E275E4D6F2BE7162D3A686412F</td>\n",
       "      <td>nombre=Laura</td>\n",
       "      <td>anom</td>\n",
       "      <td>1</td>\n",
       "    </tr>\n",
       "  </tbody>\n",
       "</table>\n",
       "</div>"
      ],
      "text/plain": [
       "         uid   idx method                                                url  \\\n",
       "17926  17926  4421    GET  http://localhost:8080/tienda1/publico/registro...   \n",
       "\n",
       "       protocol                                         user_agent    pragma  \\\n",
       "17926  HTTP/1.1  Mozilla/5.0 (compatible; Konqueror/3.5; Linux)...  no-cache   \n",
       "\n",
       "      cache_control                                             accept  \\\n",
       "17926      no-cache  text/xml,application/xml,application/xhtml+xml...   \n",
       "\n",
       "                        accept_encoding               accept_charset  \\\n",
       "17926  x-gzip, x-deflate, gzip, deflate  utf-8, utf-8;q=0.5, *;q=0.5   \n",
       "\n",
       "      accept_language            host connection content_length content_type  \\\n",
       "17926              en  localhost:8080      close           null         null   \n",
       "\n",
       "                                            cookie       payload label  \\\n",
       "17926  JSESSIONID=363E69E275E4D6F2BE7162D3A686412F  nombre=Laura  anom   \n",
       "\n",
       "       is_anom  \n",
       "17926        1  "
      ]
     },
     "execution_count": 185,
     "metadata": {},
     "output_type": "execute_result"
    }
   ],
   "source": [
    "df[df.uid == 17926]"
   ]
  }
 ],
 "metadata": {
  "kernelspec": {
   "display_name": "Python 2",
   "language": "python",
   "name": "python2"
  },
  "language_info": {
   "codemirror_mode": {
    "name": "ipython",
    "version": 2
   },
   "file_extension": ".py",
   "mimetype": "text/x-python",
   "name": "python",
   "nbconvert_exporter": "python",
   "pygments_lexer": "ipython2",
   "version": "2.7.10"
  }
 },
 "nbformat": 4,
 "nbformat_minor": 0
}
